{
  "nbformat": 4,
  "nbformat_minor": 0,
  "metadata": {
    "colab": {
      "name": "Exercicio 5.7.ipynb",
      "provenance": []
    },
    "kernelspec": {
      "name": "python3",
      "display_name": "Python 3"
    },
    "language_info": {
      "name": "python"
    }
  },
  "cells": [
    {
      "cell_type": "code",
      "metadata": {
        "id": "p-aiSSGq_g2q"
      },
      "source": [
        "import pandas as pd\n",
        "caminho ='/content/drive/MyDrive/Data Exploratory Analysis/DNSE2017.csv'\n",
        "\n",
        "sinasc = pd.read_csv(caminho, dtype=str, encoding='utf8')\n",
        "\n"
      ],
      "execution_count": 2,
      "outputs": []
    },
    {
      "cell_type": "code",
      "metadata": {
        "colab": {
          "base_uri": "https://localhost:8080/"
        },
        "id": "7zAH5ZnoAFXw",
        "outputId": "3876d79e-2997-4eff-f38b-38e1463f6660"
      },
      "source": [
        "sinasc.columns"
      ],
      "execution_count": 5,
      "outputs": [
        {
          "output_type": "execute_result",
          "data": {
            "text/plain": [
              "Index(['contador', 'ORIGEM', 'CODESTAB', 'CODMUNNASC', 'LOCNASC', 'IDADEMAE',\n",
              "       'ESTCIVMAE', 'ESCMAE', 'CODOCUPMAE', 'QTDFILVIVO', 'QTDFILMORT',\n",
              "       'CODMUNRES', 'GESTACAO', 'GRAVIDEZ', 'PARTO', 'CONSULTAS', 'DTNASC',\n",
              "       'HORANASC', 'SEXO', 'APGAR1', 'APGAR5', 'RACACOR', 'PESO', 'IDANOMAL',\n",
              "       'DTCADASTRO', 'CODANOMAL', 'NUMEROLOTE', 'VERSAOSIST', 'DTRECEBIM',\n",
              "       'DIFDATA', 'DTRECORIGA', 'NATURALMAE', 'CODMUNNATU', 'CODUFNATU',\n",
              "       'ESCMAE2010', 'SERIESCMAE', 'DTNASCMAE', 'RACACORMAE', 'QTDGESTANT',\n",
              "       'QTDPARTNOR', 'QTDPARTCES', 'IDADEPAI', 'DTULTMENST', 'SEMAGESTAC',\n",
              "       'TPMETESTIM', 'CONSPRENAT', 'MESPRENAT', 'TPAPRESENT', 'STTRABPART',\n",
              "       'STCESPARTO', 'TPNASCASSI', 'TPFUNCRESP', 'TPDOCRESP', 'DTDECLARAC',\n",
              "       'ESCMAEAGR1', 'STDNEPIDEM', 'STDNNOVA', 'CODPAISRES', 'TPROBSON',\n",
              "       'PARIDADE', 'KOTELCHUCK'],\n",
              "      dtype='object')"
            ]
          },
          "metadata": {
            "tags": []
          },
          "execution_count": 5
        }
      ]
    },
    {
      "cell_type": "code",
      "metadata": {
        "id": "wNnZeeGAAb10"
      },
      "source": [
        "# atributos quantitativos contínuos - medições\n",
        "sinasc['PESO'] = pd.to_numeric(sinasc['PESO']).astype(pd.Int64Dtype())\n",
        "sinasc['IDADEMAE'] = pd.to_numeric(sinasc['IDADEMAE']).astype(pd.Int64Dtype())\n",
        "sinasc['IDADEPAI'] = pd.to_numeric(sinasc['IDADEPAI']).astype(pd.Int64Dtype())\n",
        "sinasc['APGAR1'] = pd.to_numeric(sinasc['APGAR1']).astype(pd.Int64Dtype())\n",
        "sinasc['APGAR5'] = pd.to_numeric(sinasc['APGAR5']).astype(pd.Int64Dtype())\n",
        "sinasc['QTDFILVIVO'] = pd.to_numeric(sinasc['QTDFILVIVO']).astype(pd.Int64Dtype())\n",
        "sinasc['QTDFILMORT'] = pd.to_numeric(sinasc['QTDFILMORT']).astype(pd.Int64Dtype())\n",
        "sinasc['ESCMAE'] = pd.to_numeric(sinasc['ESCMAE']).astype(pd.Int64Dtype())"
      ],
      "execution_count": 3,
      "outputs": []
    },
    {
      "cell_type": "code",
      "metadata": {
        "colab": {
          "base_uri": "https://localhost:8080/"
        },
        "id": "bQE9mdHkCkCE",
        "outputId": "831495e5-7301-490c-f0c9-d072cdbaaf1b"
      },
      "source": [
        "#Exercicio 1\n",
        "media = sinasc[['IDADEMAE', 'PESO','APGAR1','APGAR5','QTDFILVIVO','QTDFILMORT']].mean()\n",
        "media"
      ],
      "execution_count": 76,
      "outputs": [
        {
          "output_type": "execute_result",
          "data": {
            "text/plain": [
              "IDADEMAE        26.148079\n",
              "PESO          3223.196332\n",
              "APGAR1           8.443829\n",
              "APGAR5           9.526913\n",
              "QTDFILVIVO       1.123062\n",
              "QTDFILMORT       0.310486\n",
              "dtype: float64"
            ]
          },
          "metadata": {
            "tags": []
          },
          "execution_count": 76
        }
      ]
    },
    {
      "cell_type": "code",
      "metadata": {
        "colab": {
          "base_uri": "https://localhost:8080/"
        },
        "id": "azTdB3qDCdbF",
        "outputId": "0336bf2a-d76f-4903-b3cb-61c366c38863"
      },
      "source": [
        "#Exercicio 2\n",
        "mediana_idademae = sinasc['IDADEMAE'].median()\n",
        "mediana_idademae"
      ],
      "execution_count": 78,
      "outputs": [
        {
          "output_type": "execute_result",
          "data": {
            "text/plain": [
              "26.0"
            ]
          },
          "metadata": {
            "tags": []
          },
          "execution_count": 78
        }
      ]
    },
    {
      "cell_type": "code",
      "metadata": {
        "colab": {
          "base_uri": "https://localhost:8080/"
        },
        "id": "kXcvNZdLDuON",
        "outputId": "8b1ca6f8-0316-4e26-c5c4-8c1a4fd46c63"
      },
      "source": [
        "#Exercicio 3\n",
        "moda_apgar1 = sinasc['APGAR1'].mode()\n",
        "moda_apgar1"
      ],
      "execution_count": 80,
      "outputs": [
        {
          "output_type": "execute_result",
          "data": {
            "text/plain": [
              "0    9\n",
              "dtype: Int64"
            ]
          },
          "metadata": {
            "tags": []
          },
          "execution_count": 80
        }
      ]
    },
    {
      "cell_type": "code",
      "metadata": {
        "colab": {
          "base_uri": "https://localhost:8080/"
        },
        "id": "AEgvjAikD0Cj",
        "outputId": "4b06f6b2-893d-4bcd-ceb9-42949b7a0d59"
      },
      "source": [
        "#Exercicio 4\n",
        "moda_apgar5 = sinasc['APGAR5'].mode()\n",
        "moda_apgar5"
      ],
      "execution_count": 81,
      "outputs": [
        {
          "output_type": "execute_result",
          "data": {
            "text/plain": [
              "0    10\n",
              "dtype: Int64"
            ]
          },
          "metadata": {
            "tags": []
          },
          "execution_count": 81
        }
      ]
    },
    {
      "cell_type": "code",
      "metadata": {
        "colab": {
          "base_uri": "https://localhost:8080/"
        },
        "id": "2f0AcQ7BEPW6",
        "outputId": "025730d0-0046-48fc-e98d-4aba7dcb3d9f"
      },
      "source": [
        "#Exercicio 5\n",
        "percentis = sinasc['PESO'].quantile([0.1])\n",
        "percentis"
      ],
      "execution_count": 82,
      "outputs": [
        {
          "output_type": "execute_result",
          "data": {
            "text/plain": [
              "0.1    2570\n",
              "Name: PESO, dtype: object"
            ]
          },
          "metadata": {
            "tags": []
          },
          "execution_count": 82
        }
      ]
    },
    {
      "cell_type": "code",
      "metadata": {
        "colab": {
          "base_uri": "https://localhost:8080/"
        },
        "id": "_I2CAKDQFZMz",
        "outputId": "d407ce12-4540-40f0-9d7c-926cb48a4f0e"
      },
      "source": [
        "#Exercicio 6\n",
        "q3 = sinasc.PESO.quantile([0.75])\n",
        "q3\n",
        "\n"
      ],
      "execution_count": 83,
      "outputs": [
        {
          "output_type": "execute_result",
          "data": {
            "text/plain": [
              "0.75    3575\n",
              "Name: PESO, dtype: object"
            ]
          },
          "metadata": {
            "tags": []
          },
          "execution_count": 83
        }
      ]
    },
    {
      "cell_type": "code",
      "metadata": {
        "colab": {
          "base_uri": "https://localhost:8080/"
        },
        "id": "6lbb5vjjHtdZ",
        "outputId": "da24047e-a85e-4fa1-e530-82dc0a7e3451"
      },
      "source": [
        "#Exercicio 7\n",
        "moda_qtdfilmort = sinasc['QTDFILMORT'].mode()\n",
        "moda_qtdfilmort"
      ],
      "execution_count": 88,
      "outputs": [
        {
          "output_type": "execute_result",
          "data": {
            "text/plain": [
              "0    0\n",
              "dtype: Int64"
            ]
          },
          "metadata": {
            "tags": []
          },
          "execution_count": 88
        }
      ]
    },
    {
      "cell_type": "code",
      "metadata": {
        "colab": {
          "base_uri": "https://localhost:8080/"
        },
        "id": "7wdtDq6KH-l6",
        "outputId": "1cb589a4-f3cc-4b15-cb3d-17fd5478584e"
      },
      "source": [
        "#Exercicio 8\n",
        "maessolteiras = sinasc[(sinasc.ESTCIVMAE=='1')]\n",
        "media_idade_maessolteiras = maessolteiras['IDADEMAE'].mean()\n",
        "media_idade_maessolteiras\n"
      ],
      "execution_count": 87,
      "outputs": [
        {
          "output_type": "execute_result",
          "data": {
            "text/plain": [
              "24.929703822047436"
            ]
          },
          "metadata": {
            "tags": []
          },
          "execution_count": 87
        }
      ]
    },
    {
      "cell_type": "code",
      "metadata": {
        "colab": {
          "base_uri": "https://localhost:8080/"
        },
        "id": "Kgfs3EwyLIeQ",
        "outputId": "316fa78f-0317-49df-c621-1106e47ffa11"
      },
      "source": [
        "#Exercicio 9\n",
        "escolaridademae = sinasc[(sinasc.ESCMAE=='1') | (sinasc.ESCMAE=='2')]\n",
        "qtd = escolaridademae.QTDFILVIVO.quantile([0.25])\n",
        "qtd"
      ],
      "execution_count": 8,
      "outputs": [
        {
          "output_type": "execute_result",
          "data": {
            "text/plain": [
              "0.25    <NA>\n",
              "Name: QTDFILVIVO, dtype: object"
            ]
          },
          "metadata": {
            "tags": []
          },
          "execution_count": 8
        }
      ]
    },
    {
      "cell_type": "code",
      "metadata": {
        "colab": {
          "base_uri": "https://localhost:8080/"
        },
        "id": "nW-5xhIKSLBn",
        "outputId": "64f803b2-59d9-4420-89ca-64ff99b4de3e"
      },
      "source": [
        "#EXERCICIO 10\n",
        "anomalia = sinasc[sinasc.IDANOMAL == '1']\n",
        "anomalia.IDADEMAE.mode()"
      ],
      "execution_count": 6,
      "outputs": [
        {
          "output_type": "execute_result",
          "data": {
            "text/plain": [
              "0    21\n",
              "dtype: Int64"
            ]
          },
          "metadata": {
            "tags": []
          },
          "execution_count": 6
        }
      ]
    }
  ]
}